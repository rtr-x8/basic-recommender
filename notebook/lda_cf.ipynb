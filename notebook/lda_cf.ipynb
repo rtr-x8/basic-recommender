{
 "cells": [
  {
   "cell_type": "markdown",
   "id": "82ccbb96efa3f00e",
   "metadata": {
    "collapsed": false
   },
   "source": [
    "# LDA と強調フィルタリング\n",
    "\n",
    "ユーザーが購入した商品IDを単語をみなしてLDAを行う。\n",
    "\n",
    "協調フィルタリングの一種\n",
    "\n",
    "アイテムごとのトピックの分布と、ユーザーごとのトピックが得られる\n",
    "\n",
    "ユーザーはトピック①が好きっぽいので、トピック①の商品を推薦しよう、という考え"
   ]
  }
 ],
 "metadata": {
  "kernelspec": {
   "display_name": "Python 3",
   "language": "python",
   "name": "python3"
  },
  "language_info": {
   "codemirror_mode": {
    "name": "ipython",
    "version": 2
   },
   "file_extension": ".py",
   "mimetype": "text/x-python",
   "name": "python",
   "nbconvert_exporter": "python",
   "pygments_lexer": "ipython2",
   "version": "2.7.6"
  }
 },
 "nbformat": 4,
 "nbformat_minor": 5
}
