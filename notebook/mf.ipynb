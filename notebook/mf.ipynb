{
 "cells": [
  {
   "cell_type": "markdown",
   "id": "8cb2b9a13153228d",
   "metadata": {
    "collapsed": false
   },
   "source": [
    "# MF\n",
    "Matrix Factorization\n",
    "\n",
    "明示的な評価値（例：ユーザーAのアイテム①に対する1~5のレーティング）を用いる\n",
    "\n",
    "評価値行列（m x n）を行列（m x k）と行列（k x n）に分解する。\n",
    "\n",
    "$$\n",
    "E=∑_{(i,j)∈Ω}(A_{ij}−∑_{r=1}^{k}P_{ir}⋅Q_{rj})^2\n",
    "$$\n",
    "\n",
    "E: 誤差関数\n",
    "A: 評価値行列 m行n列。これをPとQの積で表したい\n",
    "P: ユーザー行列 m行k列\n",
    "Q: k行n列\n",
    "k: 特徴量の次元数\n",
    "Ω: 行列Aの非ゼロ要素（実際の観測値）の位置のセット\n",
    "\n",
    "この誤差関数は実際の観測値Aと行列PQの積の差を表す。"
   ]
  },
  {
   "cell_type": "code",
   "execution_count": 17,
   "id": "db13992ecfdfb19d",
   "metadata": {
    "ExecuteTime": {
     "end_time": "2023-08-30T05:38:42.700586500Z",
     "start_time": "2023-08-30T05:38:29.504615200Z"
    },
    "collapsed": false
   },
   "outputs": [
    {
     "name": "stdout",
     "output_type": "stream",
     "text": [
      "file is found. loading...\n"
     ]
    }
   ],
   "source": [
    "from surprise import Reader, SVD\n",
    "from src.data import MovieLens20MDataLoader\n",
    "from surprise import Dataset as SurpriseDataset\n",
    "\n",
    "facotr = 5 # 因子数\n",
    "minimum_num_rating = 100 # しきい値\n",
    "use_bias = False # バイアス項\n",
    "lr_all = 0.005 # 学習率\n",
    "epochs = 50\n",
    "\n",
    "data = MovieLens20MDataLoader().load().get('ratings')\n"
   ]
  },
  {
   "cell_type": "code",
   "execution_count": 21,
   "id": "248495acd8bb20c4",
   "metadata": {
    "ExecuteTime": {
     "end_time": "2023-08-30T05:40:09.526721500Z",
     "start_time": "2023-08-30T05:39:36.845209900Z"
    },
    "collapsed": false
   },
   "outputs": [],
   "source": [
    "reader = Reader(rating_scale = (0.5, 5))\n",
    "data_train = SurpriseDataset.load_from_df(data[[\"userId\", \"movieId\", \"rating\"]], reader).build_full_trainset()"
   ]
  },
  {
   "cell_type": "code",
   "execution_count": 24,
   "id": "a1ecd19c8f8064f7",
   "metadata": {
    "ExecuteTime": {
     "end_time": "2023-08-30T05:42:20.949733400Z",
     "start_time": "2023-08-30T05:40:39.988255900Z"
    },
    "collapsed": false
   },
   "outputs": [
    {
     "data": {
      "text/plain": [
       "<surprise.prediction_algorithms.matrix_factorization.SVD at 0x7f9f7fbfe2c0>"
      ]
     },
     "execution_count": 24,
     "metadata": {},
     "output_type": "execute_result"
    }
   ],
   "source": [
    "matrix_factorization = SVD(n_factors=facotr, n_epochs = epochs, lr_all = lr_all, biased = use_bias)\n",
    "matrix_factorization.fit(data_train)"
   ]
  },
  {
   "cell_type": "code",
   "execution_count": 26,
   "id": "5806e394ba41a28a",
   "metadata": {
    "ExecuteTime": {
     "end_time": "2023-08-30T05:54:00.603228300Z",
     "start_time": "2023-08-30T05:54:00.591026300Z"
    },
    "collapsed": false
   },
   "outputs": [],
   "source": [
    "# 概要はわかったのでここまで"
   ]
  },
  {
   "cell_type": "code",
   "execution_count": null,
   "id": "d2dd5a7d9e3ac1e3",
   "metadata": {
    "collapsed": false
   },
   "outputs": [],
   "source": []
  }
 ],
 "metadata": {
  "kernelspec": {
   "display_name": "Python 3",
   "language": "python",
   "name": "python3"
  },
  "language_info": {
   "codemirror_mode": {
    "name": "ipython",
    "version": 2
   },
   "file_extension": ".py",
   "mimetype": "text/x-python",
   "name": "python",
   "nbconvert_exporter": "python",
   "pygments_lexer": "ipython2",
   "version": "2.7.6"
  }
 },
 "nbformat": 4,
 "nbformat_minor": 5
}
