{
 "cells": [
  {
   "cell_type": "code",
   "execution_count": 4,
   "id": "58310c28-58ec-4709-a994-52e94ea16e42",
   "metadata": {
    "ExecuteTime": {
     "end_time": "2023-08-16T05:34:21.422804500Z",
     "start_time": "2023-08-16T05:34:21.412906600Z"
    }
   },
   "outputs": [
    {
     "data": {
      "text/plain": [
       "['/app/notebook',\n",
       " '/usr/local/lib/python310.zip',\n",
       " '/usr/local/lib/python3.10',\n",
       " '/usr/local/lib/python3.10/lib-dynload',\n",
       " '',\n",
       " '/usr/local/lib/python3.10/site-packages',\n",
       " '/app']"
      ]
     },
     "execution_count": 4,
     "metadata": {},
     "output_type": "execute_result"
    }
   ],
   "source": [
    "import sys\n",
    "sys.path"
   ]
  },
  {
   "cell_type": "code",
   "execution_count": 5,
   "id": "82b384e8-d915-41b1-9164-442762d7a980",
   "metadata": {
    "ExecuteTime": {
     "end_time": "2023-08-16T05:34:22.136924Z",
     "start_time": "2023-08-16T05:34:21.421048300Z"
    }
   },
   "outputs": [],
   "source": [
    "from src.notification import SlackNotifier\n",
    "\n",
    "notifier = SlackNotifier()\n",
    "notifier.notify('aaaaa', '123', 'bbbb')\n",
    "notifier.notify()"
   ]
  },
  {
   "cell_type": "code",
   "execution_count": 6,
   "id": "initial_id",
   "metadata": {
    "ExecuteTime": {
     "end_time": "2023-08-16T05:34:22.146220400Z",
     "start_time": "2023-08-16T05:34:22.140734300Z"
    }
   },
   "outputs": [
    {
     "data": {
      "text/plain": [
       "['/app/notebook',\n",
       " '/usr/local/lib/python310.zip',\n",
       " '/usr/local/lib/python3.10',\n",
       " '/usr/local/lib/python3.10/lib-dynload',\n",
       " '',\n",
       " '/usr/local/lib/python3.10/site-packages',\n",
       " '/app']"
      ]
     },
     "execution_count": 6,
     "metadata": {},
     "output_type": "execute_result"
    }
   ],
   "source": [
    "import sys\n",
    "sys.path"
   ]
  },
  {
   "cell_type": "code",
   "execution_count": 9,
   "id": "9e2e2a033c357b0a",
   "metadata": {
    "ExecuteTime": {
     "end_time": "2023-08-16T05:55:15.018620900Z",
     "start_time": "2023-08-16T05:55:13.586589500Z"
    },
    "collapsed": false
   },
   "outputs": [
    {
     "name": "stdout",
     "output_type": "stream",
     "text": [
      "False\n"
     ]
    }
   ],
   "source": [
    "import torch\n",
    "print(torch.cuda.is_available())"
   ]
  },
  {
   "cell_type": "code",
   "execution_count": null,
   "id": "2cd67b6628df751f",
   "metadata": {
    "collapsed": false
   },
   "outputs": [],
   "source": []
  },
  {
   "cell_type": "code",
   "execution_count": null,
   "id": "e3f9572a776b3b6f",
   "metadata": {
    "collapsed": false
   },
   "outputs": [],
   "source": []
  }
 ],
 "metadata": {
  "kernelspec": {
   "display_name": "Python 3 (ipykernel)",
   "language": "python",
   "name": "python3"
  },
  "language_info": {
   "codemirror_mode": {
    "name": "ipython",
    "version": 3
   },
   "file_extension": ".py",
   "mimetype": "text/x-python",
   "name": "python",
   "nbconvert_exporter": "python",
   "pygments_lexer": "ipython3",
   "version": "3.10.12"
  }
 },
 "nbformat": 4,
 "nbformat_minor": 5
}
