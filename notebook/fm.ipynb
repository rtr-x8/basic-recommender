{
 "cells": [
  {
   "cell_type": "markdown",
   "id": "d3bb7f5641e9c7d0",
   "metadata": {
    "collapsed": false
   },
   "source": [
    "# Factorization Machine\n",
    "\n",
    "評価値行列とアイテム属性を用いる\n",
    "\n",
    "アイテム x ユーザーの評価値行列が一般出来な持ち方であるのに対し、FMでは1つの評価が1行で表される\n",
    "\n",
    "|    | u1 | u2 | u3 | i1 | i2 | i3 | a1  | a2  | y  |\n",
    "|----|----|----|----|----|----|----|-----|-----|----|\n",
    "| x1 | 1  | 0  | 0  | 1  | 0  | 0  | 3.2 | 1.4 | 4  |\n",
    "| x2 | 0  | 1  | 0  | 0  | 1  | 0  | 0.2 | 2.4 | 44 |\n",
    "\n",
    "uXはユーザーのOne-hot、iXはアイテムのOne-hot、aXは補足情報（年齢など）、yは評価値で$\\hat{y}$を推測する\n",
    "\n",
    "\n",
    "$$\n",
    "\\hat{y}=w_{0}+Σ_{j=1}^{n}w_{j}x_{j}+Σ_{j=1}_{n}Σ_{j=k+1}^{n}<f_{j}, f_{k}>x_{j}x_{k}\n",
    "$$\n",
    "\n",
    "$w_0$: バイアス項\n",
    "$w_j$: $x_j$に対する重み\n",
    "n: 特徴数\n",
    "$f_j, f_k$: 特徴ベクトル。ユーザー1には$f_u_1$\n",
    "\n",
    "例  \n",
    "$x_{age}$と$x_{sex}$の2つの項について、アイテム1には$f_i_1$というベクトルが割り当てられる。性別なら$f_{sex}$, 年齢なら$f_{age}$となる。  \n",
    "それらの重みが計算される。（年齢と性別の組み合わせを重視する否か）\n",
    "\n",
    "\n",
    "属性情報を追加しやすいメリットがある。\n",
    "\n",
    "\n"
   ]
  },
  {
   "cell_type": "code",
   "execution_count": null,
   "id": "72525ef0d207aa37",
   "metadata": {
    "collapsed": false
   },
   "outputs": [],
   "source": []
  }
 ],
 "metadata": {
  "kernelspec": {
   "display_name": "Python 3",
   "language": "python",
   "name": "python3"
  },
  "language_info": {
   "codemirror_mode": {
    "name": "ipython",
    "version": 2
   },
   "file_extension": ".py",
   "mimetype": "text/x-python",
   "name": "python",
   "nbconvert_exporter": "python",
   "pygments_lexer": "ipython2",
   "version": "2.7.6"
  }
 },
 "nbformat": 4,
 "nbformat_minor": 5
}
