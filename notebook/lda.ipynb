{
 "cells": [
  {
   "cell_type": "markdown",
   "id": "4c3fa432dd16576e",
   "metadata": {
    "collapsed": false
   },
   "source": [
    "# LDA\n",
    "\n",
    "LDAはある文章（あらすじなど）からそのアイテムのトピックが含まれる確率を計算する。  \n",
    "ユーザーごとにどのトピックが好きかを割合から考え、好きなトピックから推薦する\n",
    "\n",
    "コンテンツ推薦の一種"
   ]
  },
  {
   "cell_type": "code",
   "execution_count": null,
   "id": "c634d00409749e73",
   "metadata": {
    "collapsed": false
   },
   "outputs": [],
   "source": []
  }
 ],
 "metadata": {
  "kernelspec": {
   "display_name": "Python 3",
   "language": "python",
   "name": "python3"
  },
  "language_info": {
   "codemirror_mode": {
    "name": "ipython",
    "version": 2
   },
   "file_extension": ".py",
   "mimetype": "text/x-python",
   "name": "python",
   "nbconvert_exporter": "python",
   "pygments_lexer": "ipython2",
   "version": "2.7.6"
  }
 },
 "nbformat": 4,
 "nbformat_minor": 5
}
